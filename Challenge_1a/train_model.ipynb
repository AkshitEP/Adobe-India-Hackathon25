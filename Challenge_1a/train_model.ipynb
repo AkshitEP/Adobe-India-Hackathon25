{
 "cells": [
  {
   "cell_type": "code",
   "execution_count": 16,
   "metadata": {},
   "outputs": [],
   "source": [
    "import json\n",
    "import os\n",
    "import pandas as pd\n",
    "from sklearn.ensemble import RandomForestClassifier\n",
    "from sklearn.preprocessing import LabelEncoder\n",
    "import joblib\n",
    "import difflib\n"
   ]
  },
  {
   "cell_type": "code",
   "execution_count": 17,
   "metadata": {},
   "outputs": [],
   "source": [
    "import fitz  # PyMuPDF"
   ]
  },
  {
   "cell_type": "code",
   "execution_count": 18,
   "metadata": {},
   "outputs": [],
   "source": [
    "\n",
    "def extract_lines_with_features(pdf_path):\n",
    "    doc = fitz.open(pdf_path)\n",
    "    lines = []\n",
    "    for page_num in range(len(doc)):\n",
    "        page = doc[page_num]\n",
    "        blocks = page.get_text(\"dict\")[\"blocks\"]\n",
    "        for block in blocks:\n",
    "            if \"lines\" in block:\n",
    "                for line in block[\"lines\"]:\n",
    "                    line_text = \"\"\n",
    "                    font_sizes = []\n",
    "                    is_bold = False\n",
    "                    is_italic = False\n",
    "                    for span in line[\"spans\"]:\n",
    "                        line_text += span[\"text\"]\n",
    "                        font_sizes.append(span[\"size\"])\n",
    "                        if span[\"flags\"] & 2**4:  # bold\n",
    "                            is_bold = True\n",
    "                        if span[\"flags\"] & 2**1:  # italic\n",
    "                            is_italic = True\n",
    "                    if font_sizes:\n",
    "                        font_size = max(set(font_sizes), key=font_sizes.count)\n",
    "                    else:\n",
    "                        font_size = 0\n",
    "                    y_position = line[\"bbox\"][1]  # top y-coordinate\n",
    "                    lines.append({\n",
    "                        \"text\": line_text.strip(),\n",
    "                        \"font_size\": font_size,\n",
    "                        \"is_bold\": is_bold,\n",
    "                        \"is_italic\": is_italic,\n",
    "                        \"y_position\": y_position,\n",
    "                        \"page_number\": page_num + 1\n",
    "                    })\n",
    "    doc.close()\n",
    "    return lines\n",
    "\n",
    "def label_lines(lines, json_path):\n",
    "    with open(json_path, 'r') as f:\n",
    "        data = json.load(f)\n",
    "    title = data.get(\"title\", \"\")\n",
    "    outline = data.get(\"outline\", [])\n",
    "    headings = [(item[\"text\"], item[\"page\"], item[\"level\"]) for item in outline]\n",
    "    if title:\n",
    "        headings.insert(0, (title, 1, \"title\"))\n",
    "    labeled_lines = []\n",
    "    for line in lines:\n",
    "        text = line[\"text\"]\n",
    "        page = line[\"page_number\"]\n",
    "        page_headings = [h for h in headings if h[1] == page]\n",
    "        if page_headings:\n",
    "            similarities = [difflib.SequenceMatcher(None, text, h[0]).ratio() for h in page_headings]\n",
    "            if similarities:\n",
    "                max_sim = max(similarities)\n",
    "                if max_sim > 0.8:  # Threshold for matching\n",
    "                    index = similarities.index(max_sim)\n",
    "                    label = page_headings[index][2]\n",
    "                else:\n",
    "                    label = \"none\"\n",
    "            else:\n",
    "                label = \"none\"\n",
    "        else:\n",
    "            label = \"none\"\n",
    "        labeled_lines.append((line, label))\n",
    "    return labeled_lines\n",
    "\n",
    "def compute_features(line):\n",
    "    text = line[\"text\"]\n",
    "    return {\n",
    "        \"font_size\": line[\"font_size\"],\n",
    "        \"is_bold\": 1 if line[\"is_bold\"] else 0,\n",
    "        \"is_italic\": 1 if line[\"is_italic\"] else 0,\n",
    "        \"y_position\": line[\"y_position\"],\n",
    "        \"text_length\": len(text),\n",
    "        \"is_all_caps\": 1 if text.isupper() else 0,\n",
    "        \"is_title_case\": 1 if text.istitle() else 0,\n",
    "        \"page_number\": line[\"page_number\"]\n",
    "    }\n"
   ]
  },
  {
   "cell_type": "code",
   "execution_count": 19,
   "metadata": {},
   "outputs": [],
   "source": [
    "\n",
    "# Paths to sample dataset\n",
    "pdf_dir = \"sample_dataset/pdfs\"\n",
    "json_dir = \"sample_dataset/outputs\"\n",
    "pdf_files = [os.path.join(pdf_dir, f) for f in os.listdir(pdf_dir) if f.endswith('.pdf')]\n",
    "json_files = [os.path.join(json_dir, f.replace('.pdf', '.json')) for f in os.listdir(pdf_dir) if f.endswith('.pdf')]\n"
   ]
  },
  {
   "cell_type": "code",
   "execution_count": 20,
   "metadata": {},
   "outputs": [],
   "source": [
    "\n",
    "# Collect labeled data\n",
    "all_labeled_lines = []\n",
    "for pdf_file, json_file in zip(pdf_files, json_files):\n",
    "    lines = extract_lines_with_features(pdf_file)\n",
    "    labeled = label_lines(lines, json_file)\n",
    "    all_labeled_lines.extend(labeled)\n",
    "\n",
    "# Prepare training data\n",
    "X = [compute_features(line) for line, label in all_labeled_lines]\n",
    "y = [label for line, label in all_labeled_lines]\n",
    "df = pd.DataFrame(X)\n"
   ]
  },
  {
   "cell_type": "code",
   "execution_count": 21,
   "metadata": {},
   "outputs": [
    {
     "name": "stdout",
     "output_type": "stream",
     "text": [
      "Training complete. Model and label encoder saved as 'heading_classifier.pkl' and 'label_encoder.pkl'.\n"
     ]
    }
   ],
   "source": [
    "\n",
    "# Encode labels\n",
    "le = LabelEncoder()\n",
    "y_encoded = le.fit_transform(y)\n",
    "\n",
    "# Train classifier\n",
    "clf = RandomForestClassifier(n_estimators=100, random_state=42)\n",
    "clf.fit(df, y_encoded)\n",
    "\n",
    "# Save model and label encoder\n",
    "joblib.dump(clf, 'heading_classifier.pkl')\n",
    "joblib.dump(le, 'label_encoder.pkl')\n",
    "\n",
    "print(\"Training complete. Model and label encoder saved as 'heading_classifier.pkl' and 'label_encoder.pkl'.\")"
   ]
  },
  {
   "cell_type": "code",
   "execution_count": null,
   "metadata": {},
   "outputs": [],
   "source": []
  }
 ],
 "metadata": {
  "kernelspec": {
   "display_name": "Python 3",
   "language": "python",
   "name": "python3"
  },
  "language_info": {
   "codemirror_mode": {
    "name": "ipython",
    "version": 3
   },
   "file_extension": ".py",
   "mimetype": "text/x-python",
   "name": "python",
   "nbconvert_exporter": "python",
   "pygments_lexer": "ipython3",
   "version": "3.12.10"
  }
 },
 "nbformat": 4,
 "nbformat_minor": 2
}
